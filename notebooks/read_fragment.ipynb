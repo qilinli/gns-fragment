{
 "cells": [
  {
   "cell_type": "markdown",
   "id": "c9e266cd-aea1-48cd-9e76-ef9ccbdbbb45",
   "metadata": {
    "tags": []
   },
   "source": [
    "# Pre-process and write to npz for GNN training and testing"
   ]
  },
  {
   "cell_type": "code",
   "execution_count": null,
   "id": "89486a71-24e9-4545-9df6-b61188d58a68",
   "metadata": {},
   "outputs": [],
   "source": [
    "import re\n",
    "import numpy as np\n",
    "import random\n",
    "\n",
    "re_int_sci = r'[-\\d\\.]+e?[-+\\d]*'\n",
    "re_sci = r'[+-]?\\d+\\.\\d+e[+-]?[\\d]+'\n",
    "\n",
    "def parse_fragment_simulation(file):\n",
    "    '''\n",
    "    Extract info from LSDYNA txt, including particle coordinates, particle types, and effective plastic strain (eps).\"\n",
    "    Input: txt file extracted from LSDYNA d3plot.\n",
    "    Output: np arrays of shapes, \n",
    "            tracjectory (timesteps, num_particles, 3), \n",
    "            particle_type (num_particles,), \n",
    "            eps (timesteps, num_particles).\n",
    "    '''\n",
    "                   \n",
    "    with open(file, 'r') as f:\n",
    "        lines = f.readlines() \n",
    "\n",
    "    # Find all \"particle position\" lines and \"plastic strain\" lines using key words\n",
    "    pos_lines_start, pos_lines_end = [], []\n",
    "    strain_lines_start, strain_lines_end = [], []\n",
    "    for idx, line in enumerate(lines):\n",
    "        if line.startswith(\"*NODE\"):\n",
    "            pos_lines_start.append(idx)\n",
    "        elif line.startswith(\"*END\"):  \n",
    "            pos_lines_end.append(idx)\n",
    "        elif line.startswith(\"$SPH_ELEMENT_RESULTS\"):\n",
    "            strain_lines_start.append(idx)\n",
    "\n",
    "    num_steps = len(pos_lines_start)\n",
    "    pos_lines_end, strain_lines_end = pos_lines_end[:num_steps], pos_lines_end[num_steps:]\n",
    "\n",
    "    # Extact particle positions \n",
    "    trajectory = []\n",
    "    for line_start, line_end in zip(pos_lines_start, pos_lines_end):\n",
    "        pos_lines = lines[line_start:line_end]   # lines that contains positions in one time step\n",
    "        pos_one_step = []\n",
    "        for line in pos_lines:\n",
    "            num_str = re.findall(re_int_sci, line)\n",
    "            if len(num_str) == 4:\n",
    "                pos = [float(x) for x in num_str] #last one is volume\n",
    "                pos = tuple(pos)\n",
    "                pos_one_step.append(pos)\n",
    "        trajectory.append(pos_one_step) \n",
    "    trajectory = np.array(trajectory).astype(float)\n",
    "\n",
    "    # Extract effective plastic strain (eps)\n",
    "    strains = []\n",
    "    for line_start, line_end in zip(strain_lines_start, strain_lines_end):\n",
    "        strain_lines = lines[line_start+1:line_end]   # lines that contains positions in one time step\n",
    "        strains_one_step = []\n",
    "        for line in strain_lines:\n",
    "            num_str = re.findall(re_int_sci, line)  # Regular expression findign scitific numbers\n",
    "            if len(num_str) == 2:\n",
    "                num = [float(x) for x in num_str] #last one is volume\n",
    "                num = tuple(num)\n",
    "                strains_one_step.append(num)\n",
    "        strains.append(strains_one_step)  \n",
    "    strains = np.array(strains).astype(float)\n",
    "    \n",
    "    # \n",
    "    pos_dict = {item[0]: item[1:] for item in trajectory[0, :]}\n",
    "    solid_strain_dict = {item[0]: item[1:] for item in strains[0, :]}\n",
    "    type_dict = {}\n",
    "    beam_strain_dict = {}\n",
    "\n",
    "    for key in pos_dict:\n",
    "        if key in solid_strain_dict:\n",
    "            type_dict[key] = 0\n",
    "        else:\n",
    "            type_dict[key] = 1\n",
    "            beam_strain_dict[key] = 0.\n",
    "\n",
    "    beam_strain = np.array(list(beam_strain_dict.items())).astype(float)\n",
    "    particle_type = np.array(list(type_dict.items())).astype(int)\n",
    "    strains = np.concatenate((strains, np.tile(beam_strain, (strains.shape[0], 1, 1))), axis=1)\n",
    "    \n",
    "    print(file, beam_strain.shape[0])\n",
    "    \n",
    "    # Sort based on eid\n",
    "    sorted_idx = particle_type[:, 0].argsort()\n",
    "    particle_type = particle_type[sorted_idx, 1]\n",
    "\n",
    "    sorted_idx = strains[0, :, 0].argsort()\n",
    "    strains = strains[:, sorted_idx, 1]\n",
    "\n",
    "    sorted_idx = trajectory[0, :, 0].argsort()\n",
    "    trajectory = trajectory[:, sorted_idx, 1:]       \n",
    "        \n",
    "    return trajectory, particle_type, strains\n",
    "\n",
    "\n",
    "if __name__ == \"__main__\":\n",
    "    pass"
   ]
  },
  {
   "cell_type": "code",
   "execution_count": null,
   "id": "244aa8fe-0913-4d4b-92f4-c74698cbf200",
   "metadata": {
    "tags": []
   },
   "outputs": [
    {
     "name": "stderr",
     "output_type": "stream",
     "text": [
      "0it [00:00, ?it/s]"
     ]
    },
    {
     "name": "stdout",
     "output_type": "stream",
     "text": [
      "0/45 Reading 60_5_0.4C30...\n",
      "/home/jovyan/work/data_temp/fragment/60/60_5_0.4C30 3069\n",
      "60_5_0.4C30 [34.3, 24.9, -400.0, 157.5, 78.75, 5.0, 30.0]\n",
      "Dim: 3\n",
      "Position min:[-498.56452   -995.           3.6501203], max:[510.9927  995.      360.88197]\n",
      "Strain min:0.0, max:1.9999999\n",
      "Shape, pos: (28, 123069, 3), types: (123069,), strain: (28, 123069)\n",
      "Unique particle types: [0 1]\n",
      "Meta:  [34.3, 24.9, -400.0, 157.5, 78.75, 5.0, 30.0]\n",
      "to train\n"
     ]
    },
    {
     "name": "stderr",
     "output_type": "stream",
     "text": [
      "1it [01:26, 86.25s/it]"
     ]
    },
    {
     "name": "stdout",
     "output_type": "stream",
     "text": [
      "1/45 Reading 60_5_0.3C80...\n",
      "/home/jovyan/work/data_temp/fragment/60/60_5_0.3C80 3069\n",
      "60_5_0.3C80 [20.0, -35.6, -300.0, 157.5, 78.75, 5.0, 80.0]\n",
      "Dim: 3\n",
      "Position min:[-5.0870346e+02 -9.9500000e+02  7.2959584e-01], max:[521.94775 995.      453.97946]\n",
      "Strain min:0.0, max:1.9999999\n",
      "Shape, pos: (28, 123069, 3), types: (123069,), strain: (28, 123069)\n",
      "Unique particle types: [0 1]\n",
      "Meta:  [20.0, -35.6, -300.0, 157.5, 78.75, 5.0, 80.0]\n",
      "to train\n"
     ]
    },
    {
     "name": "stderr",
     "output_type": "stream",
     "text": [
      "2it [02:54, 87.17s/it]"
     ]
    },
    {
     "name": "stdout",
     "output_type": "stream",
     "text": [
      "2/45 Reading 60_3_0.5C50...\n",
      "/home/jovyan/work/data_temp/fragment/60/60_3_0.5C50 3069\n",
      "60_3_0.5C50 [-35.6, -23.9, -500.0, 132.8, 66.4, 3.0, 50.0]\n",
      "Dim: 3\n",
      "Position min:[-505.98062   -995.           3.0085349], max:[500.49183 995.      190.00838]\n",
      "Strain min:0.0, max:1.9999999\n",
      "Shape, pos: (28, 123069, 3), types: (123069,), strain: (28, 123069)\n",
      "Unique particle types: [0 1]\n",
      "Meta:  [-35.6, -23.9, -500.0, 132.8, 66.4, 3.0, 50.0]\n",
      "to train\n"
     ]
    },
    {
     "name": "stderr",
     "output_type": "stream",
     "text": [
      "3it [04:17, 85.63s/it]"
     ]
    },
    {
     "name": "stdout",
     "output_type": "stream",
     "text": [
      "3/45 Reading 60_2_0.4C30...\n",
      "/home/jovyan/work/data_temp/fragment/60/60_2_0.4C30 3069\n",
      "60_2_0.4C30 [-21.1, 33.4, -400.0, 116.0, 58.0, 2.0, 30.0]\n",
      "Dim: 3\n",
      "Position min:[-497.89572   -995.           4.1626819], max:[496.35096 995.      190.90992]\n",
      "Strain min:0.0, max:1.9999999\n",
      "Shape, pos: (28, 123069, 3), types: (123069,), strain: (28, 123069)\n",
      "Unique particle types: [0 1]\n",
      "Meta:  [-21.1, 33.4, -400.0, 116.0, 58.0, 2.0, 30.0]\n",
      "to train\n"
     ]
    },
    {
     "name": "stderr",
     "output_type": "stream",
     "text": [
      "4it [05:39, 83.99s/it]"
     ]
    },
    {
     "name": "stdout",
     "output_type": "stream",
     "text": [
      "4/45 Reading 60_3_0.3C30...\n",
      "/home/jovyan/work/data_temp/fragment/60/60_3_0.3C30 3069\n",
      "60_3_0.3C30 [26.3, -27.5, -300.0, 132.8, 66.4, 3.0, 30.0]\n",
      "Dim: 3\n",
      "Position min:[-498.41125   -995.           4.1400956], max:[500.48873 995.      328.1335 ]\n",
      "Strain min:0.0, max:1.9999999\n",
      "Shape, pos: (28, 123069, 3), types: (123069,), strain: (28, 123069)\n",
      "Unique particle types: [0 1]\n",
      "Meta:  [26.3, -27.5, -300.0, 132.8, 66.4, 3.0, 30.0]\n",
      "to train\n"
     ]
    },
    {
     "name": "stderr",
     "output_type": "stream",
     "text": [
      "5it [07:03, 83.99s/it]"
     ]
    },
    {
     "name": "stdout",
     "output_type": "stream",
     "text": [
      "5/45 Reading 60_6_0.4C80...\n",
      "/home/jovyan/work/data_temp/fragment/60/60_6_0.4C80 3069\n",
      "60_6_0.4C80 [23.6, 10.1, -400.0, 167.4, 83.7, 6.0, 80.0]\n",
      "Dim: 3\n",
      "Position min:[-517.39357   -995.           1.7700437], max:[524.72101 995.      363.4827 ]\n",
      "Strain min:0.0, max:1.9999999\n",
      "Shape, pos: (28, 123069, 3), types: (123069,), strain: (28, 123069)\n",
      "Unique particle types: [0 1]\n",
      "Meta:  [23.6, 10.1, -400.0, 167.4, 83.7, 6.0, 80.0]\n",
      "to train\n"
     ]
    },
    {
     "name": "stderr",
     "output_type": "stream",
     "text": [
      "6it [08:29, 84.59s/it]"
     ]
    },
    {
     "name": "stdout",
     "output_type": "stream",
     "text": [
      "6/45 Reading 60_2_0.5C80...\n",
      "/home/jovyan/work/data_temp/fragment/60/60_2_0.5C80 3069\n",
      "60_2_0.5C80 [-36.4, 33.9, -500.0, 116.0, 58.0, 2.0, 80.0]\n",
      "Dim: 3\n",
      "Position min:[-500.91534   -995.           1.4653493], max:[502.5688  995.      129.51837]\n",
      "Strain min:0.0, max:1.9999999\n",
      "Shape, pos: (28, 123069, 3), types: (123069,), strain: (28, 123069)\n",
      "Unique particle types: [0 1]\n",
      "Meta:  [-36.4, 33.9, -500.0, 116.0, 58.0, 2.0, 80.0]\n",
      "to train\n"
     ]
    },
    {
     "name": "stderr",
     "output_type": "stream",
     "text": [
      "7it [09:51, 83.73s/it]"
     ]
    },
    {
     "name": "stdout",
     "output_type": "stream",
     "text": [
      "7/45 Reading 60_6_0.5C80...\n",
      "/home/jovyan/work/data_temp/fragment/60/60_6_0.5C80 3069\n",
      "60_6_0.5C80 [-17.6, -18.8, -500.0, 167.4, 83.7, 6.0, 80.0]\n",
      "Dim: 3\n",
      "Position min:[-5.2354488e+02 -9.9500000e+02  8.7309917e-01], max:[515.69236 995.      288.20681]\n",
      "Strain min:0.0, max:1.9999999\n",
      "Shape, pos: (28, 123069, 3), types: (123069,), strain: (28, 123069)\n",
      "Unique particle types: [0 1]\n",
      "Meta:  [-17.6, -18.8, -500.0, 167.4, 83.7, 6.0, 80.0]\n",
      "to train\n"
     ]
    },
    {
     "name": "stderr",
     "output_type": "stream",
     "text": [
      "8it [11:13, 83.33s/it]"
     ]
    },
    {
     "name": "stdout",
     "output_type": "stream",
     "text": [
      "8/45 Reading 60_3_0.3C80...\n",
      "/home/jovyan/work/data_temp/fragment/60/60_3_0.3C80 3069\n",
      "60_3_0.3C80 [-9.4, 19.1, -300.0, 132.8, 66.4, 3.0, 80.0]\n",
      "Dim: 3\n",
      "Position min:[-5.0959249e+02 -9.9500000e+02  1.0604422e-01], max:[501.83567 995.      295.93513]\n",
      "Strain min:0.0, max:1.9999999\n",
      "Shape, pos: (28, 123069, 3), types: (123069,), strain: (28, 123069)\n",
      "Unique particle types: [0 1]\n",
      "Meta:  [-9.4, 19.1, -300.0, 132.8, 66.4, 3.0, 80.0]\n",
      "to train\n"
     ]
    },
    {
     "name": "stderr",
     "output_type": "stream",
     "text": [
      "9it [12:34, 82.52s/it]"
     ]
    },
    {
     "name": "stdout",
     "output_type": "stream",
     "text": [
      "9/45 Reading 60_5_0.5C30...\n",
      "/home/jovyan/work/data_temp/fragment/60/60_5_0.5C30 3069\n",
      "60_5_0.5C30 [19.2, 16.5, -500.0, 157.5, 78.75, 5.0, 30.0]\n",
      "Dim: 3\n",
      "Position min:[-498.97923   -995.           4.0893866], max:[499.14268 995.      273.55089]\n",
      "Strain min:0.0, max:1.9999999\n",
      "Shape, pos: (28, 123069, 3), types: (123069,), strain: (28, 123069)\n",
      "Unique particle types: [0 1]\n",
      "Meta:  [19.2, 16.5, -500.0, 157.5, 78.75, 5.0, 30.0]\n",
      "to train\n"
     ]
    },
    {
     "name": "stderr",
     "output_type": "stream",
     "text": [
      "10it [13:54, 81.86s/it]"
     ]
    },
    {
     "name": "stdout",
     "output_type": "stream",
     "text": [
      "10/45 Reading 60_4_0.5C50...\n",
      "/home/jovyan/work/data_temp/fragment/60/60_4_0.5C50 3069\n",
      "60_4_0.5C50 [-36.3, -25.0, -500.0, 146.2, 73.1, 4.0, 50.0]\n",
      "Dim: 3\n",
      "Position min:[-506.58161  -995.          3.497864], max:[502.75867 995.      231.87904]\n",
      "Strain min:0.0, max:1.9999999\n",
      "Shape, pos: (28, 123069, 3), types: (123069,), strain: (28, 123069)\n",
      "Unique particle types: [0 1]\n",
      "Meta:  [-36.3, -25.0, -500.0, 146.2, 73.1, 4.0, 50.0]\n",
      "to train\n"
     ]
    },
    {
     "name": "stderr",
     "output_type": "stream",
     "text": [
      "11it [15:15, 81.67s/it]"
     ]
    },
    {
     "name": "stdout",
     "output_type": "stream",
     "text": [
      "11/45 Reading 60_3_0.4C50...\n",
      "/home/jovyan/work/data_temp/fragment/60/60_3_0.4C50 3069\n",
      "60_3_0.4C50 [-21.2, 33.7, -400.0, 132.8, 66.4, 3.0, 50.0]\n",
      "Dim: 3\n",
      "Position min:[-502.70131   -995.           3.8932137], max:[500.34939 995.      244.37935]\n",
      "Strain min:0.0, max:1.9999999\n",
      "Shape, pos: (28, 123069, 3), types: (123069,), strain: (28, 123069)\n",
      "Unique particle types: [0 1]\n",
      "Meta:  [-21.2, 33.7, -400.0, 132.8, 66.4, 3.0, 50.0]\n",
      "to train\n"
     ]
    },
    {
     "name": "stderr",
     "output_type": "stream",
     "text": [
      "12it [16:41, 82.77s/it]"
     ]
    },
    {
     "name": "stdout",
     "output_type": "stream",
     "text": [
      "12/45 Reading 60_4_0.5C30...\n",
      "/home/jovyan/work/data_temp/fragment/60/60_4_0.5C30 3069\n",
      "60_4_0.5C30 [-20.6, 31.1, -500.0, 146.2, 73.1, 4.0, 30.0]\n",
      "Dim: 3\n",
      "Position min:[-497.97899   -995.           4.3322613], max:[498.40631 995.      241.36324]\n",
      "Strain min:0.0, max:1.9999999\n",
      "Shape, pos: (28, 123069, 3), types: (123069,), strain: (28, 123069)\n",
      "Unique particle types: [0 1]\n",
      "Meta:  [-20.6, 31.1, -500.0, 146.2, 73.1, 4.0, 30.0]\n",
      "to train\n"
     ]
    },
    {
     "name": "stderr",
     "output_type": "stream",
     "text": [
      "13it [18:06, 83.44s/it]"
     ]
    },
    {
     "name": "stdout",
     "output_type": "stream",
     "text": [
      "13/45 Reading 60_6_0.4C50...\n",
      "/home/jovyan/work/data_temp/fragment/60/60_6_0.4C50 3069\n",
      "60_6_0.4C50 [-46.7, -5.8, -400.0, 167.4, 83.7, 6.0, 50.0]\n",
      "Dim: 3\n",
      "Position min:[-520.44897   -995.           1.7700952], max:[502.00783 995.      382.54096]\n",
      "Strain min:0.0, max:1.9999999\n",
      "Shape, pos: (28, 123069, 3), types: (123069,), strain: (28, 123069)\n",
      "Unique particle types: [0 1]\n",
      "Meta:  [-46.7, -5.8, -400.0, 167.4, 83.7, 6.0, 50.0]\n",
      "to train\n"
     ]
    },
    {
     "name": "stderr",
     "output_type": "stream",
     "text": [
      "14it [19:31, 84.08s/it]"
     ]
    },
    {
     "name": "stdout",
     "output_type": "stream",
     "text": [
      "14/45 Reading 60_2_0.3C80...\n",
      "/home/jovyan/work/data_temp/fragment/60/60_2_0.3C80 3069\n",
      "60_2_0.3C80 [37.0, -22.9, -300.0, 116.0, 58.0, 2.0, 80.0]\n",
      "Dim: 3\n",
      "Position min:[-5.0217782e+02 -9.9500000e+02  7.2381513e-01], max:[502.97079 995.      228.21916]\n",
      "Strain min:0.0, max:1.9999999\n",
      "Shape, pos: (28, 123069, 3), types: (123069,), strain: (28, 123069)\n",
      "Unique particle types: [0 1]\n",
      "Meta:  [37.0, -22.9, -300.0, 116.0, 58.0, 2.0, 80.0]\n",
      "to train\n"
     ]
    },
    {
     "name": "stderr",
     "output_type": "stream",
     "text": [
      "15it [20:57, 84.58s/it]"
     ]
    },
    {
     "name": "stdout",
     "output_type": "stream",
     "text": [
      "15/45 Reading 60_6_0.5C30...\n",
      "/home/jovyan/work/data_temp/fragment/60/60_6_0.5C30 3069\n",
      "60_6_0.5C30 [32.6, -39.9, -500.0, 167.4, 83.7, 6.0, 30.0]\n",
      "Dim: 3\n",
      "Position min:[-498.8192    -995.           3.2262387], max:[504.96407 995.      321.81065]\n",
      "Strain min:0.0, max:1.9999999\n",
      "Shape, pos: (28, 123069, 3), types: (123069,), strain: (28, 123069)\n",
      "Unique particle types: [0 1]\n",
      "Meta:  [32.6, -39.9, -500.0, 167.4, 83.7, 6.0, 30.0]\n",
      "to train\n"
     ]
    },
    {
     "name": "stderr",
     "output_type": "stream",
     "text": [
      "16it [22:24, 85.25s/it]"
     ]
    },
    {
     "name": "stdout",
     "output_type": "stream",
     "text": [
      "16/45 Reading 60_5_0.3C50...\n",
      "/home/jovyan/work/data_temp/fragment/60/60_5_0.3C50 3069\n",
      "60_5_0.3C50 [46.2, 22.1, -300.0, 157.5, 78.75, 5.0, 50.0]\n",
      "Dim: 3\n",
      "Position min:[-501.45554   -995.           2.1492055], max:[524.34476 995.      479.39503]\n",
      "Strain min:0.0, max:1.9999999\n",
      "Shape, pos: (28, 123069, 3), types: (123069,), strain: (28, 123069)\n",
      "Unique particle types: [0 1]\n",
      "Meta:  [46.2, 22.1, -300.0, 157.5, 78.75, 5.0, 50.0]\n",
      "to train\n"
     ]
    },
    {
     "name": "stderr",
     "output_type": "stream",
     "text": [
      "17it [23:50, 85.41s/it]"
     ]
    },
    {
     "name": "stdout",
     "output_type": "stream",
     "text": [
      "17/45 Reading 60_6_0.3C30...\n",
      "/home/jovyan/work/data_temp/fragment/60/60_6_0.3C30 3069\n",
      "60_6_0.3C30 [39.4, 6.8, -300.0, 167.4, 83.7, 6.0, 30.0]\n",
      "Dim: 3\n",
      "Position min:[-510.23953   -995.           3.2556413], max:[519.34556 995.      524.13866]\n",
      "Strain min:0.0, max:1.9999999\n",
      "Shape, pos: (28, 123069, 3), types: (123069,), strain: (28, 123069)\n",
      "Unique particle types: [0 1]\n",
      "Meta:  [39.4, 6.8, -300.0, 167.4, 83.7, 6.0, 30.0]\n",
      "to train\n"
     ]
    },
    {
     "name": "stderr",
     "output_type": "stream",
     "text": [
      "18it [25:16, 85.84s/it]"
     ]
    },
    {
     "name": "stdout",
     "output_type": "stream",
     "text": [
      "18/45 Reading 60_6_0.3C50...\n",
      "/home/jovyan/work/data_temp/fragment/60/60_6_0.3C50 3069\n",
      "60_6_0.3C50 [-11.1, -24.6, -300.0, 167.4, 83.7, 6.0, 50.0]\n",
      "Dim: 3\n",
      "Position min:[-525.37199   -995.           2.3836841], max:[520.77531 995.      504.17877]\n",
      "Strain min:0.0, max:1.9999999\n",
      "Shape, pos: (28, 123069, 3), types: (123069,), strain: (28, 123069)\n",
      "Unique particle types: [0 1]\n",
      "Meta:  [-11.1, -24.6, -300.0, 167.4, 83.7, 6.0, 50.0]\n",
      "to train\n"
     ]
    },
    {
     "name": "stderr",
     "output_type": "stream",
     "text": [
      "19it [26:41, 85.35s/it]"
     ]
    },
    {
     "name": "stdout",
     "output_type": "stream",
     "text": [
      "19/45 Reading 60_4_0.4C50...\n",
      "/home/jovyan/work/data_temp/fragment/60/60_4_0.4C50 3069\n",
      "60_4_0.4C50 [42.6, 21.2, -400.0, 146.2, 73.1, 4.0, 50.0]\n",
      "Dim: 3\n",
      "Position min:[-500.06133   -995.           1.9671465], max:[505.3161  995.      306.02019]\n",
      "Strain min:0.0, max:1.9999999\n",
      "Shape, pos: (28, 123069, 3), types: (123069,), strain: (28, 123069)\n",
      "Unique particle types: [0 1]\n",
      "Meta:  [42.6, 21.2, -400.0, 146.2, 73.1, 4.0, 50.0]\n",
      "to train\n"
     ]
    },
    {
     "name": "stderr",
     "output_type": "stream",
     "text": [
      "20it [28:06, 85.44s/it]"
     ]
    },
    {
     "name": "stdout",
     "output_type": "stream",
     "text": [
      "20/45 Reading 60_3_0.5C30...\n",
      "/home/jovyan/work/data_temp/fragment/60/60_3_0.5C30 3069\n",
      "60_3_0.5C30 [4.2, 8.2, -500.0, 132.8, 66.4, 3.0, 30.0]\n",
      "Dim: 3\n",
      "Position min:[-499.65064   -995.           4.4395789], max:[498.16297 995.      188.00985]\n",
      "Strain min:0.0, max:1.9999999\n",
      "Shape, pos: (28, 123069, 3), types: (123069,), strain: (28, 123069)\n",
      "Unique particle types: [0 1]\n",
      "Meta:  [4.2, 8.2, -500.0, 132.8, 66.4, 3.0, 30.0]\n",
      "to train\n"
     ]
    },
    {
     "name": "stderr",
     "output_type": "stream",
     "text": [
      "21it [29:32, 85.50s/it]"
     ]
    },
    {
     "name": "stdout",
     "output_type": "stream",
     "text": [
      "21/45 Reading 60_5_0.4C50...\n",
      "/home/jovyan/work/data_temp/fragment/60/60_5_0.4C50 3069\n",
      "60_5_0.4C50 [11.5, 0.9, -400.0, 157.5, 78.75, 5.0, 50.0]\n",
      "Dim: 3\n",
      "Position min:[-502.09508   -995.           3.3699964], max:[505.57708 995.      321.6332 ]\n",
      "Strain min:0.0, max:1.9999999\n",
      "Shape, pos: (28, 123069, 3), types: (123069,), strain: (28, 123069)\n",
      "Unique particle types: [0 1]\n",
      "Meta:  [11.5, 0.9, -400.0, 157.5, 78.75, 5.0, 50.0]\n",
      "to train\n"
     ]
    },
    {
     "name": "stderr",
     "output_type": "stream",
     "text": [
      "22it [30:57, 85.44s/it]"
     ]
    },
    {
     "name": "stdout",
     "output_type": "stream",
     "text": [
      "22/45 Reading 60_4_0.3C30...\n",
      "/home/jovyan/work/data_temp/fragment/60/60_4_0.3C30 3069\n",
      "60_4_0.3C30 [-28.7, 24.6, -300.0, 146.2, 73.1, 4.0, 30.0]\n",
      "Dim: 3\n",
      "Position min:[-512.45088  -995.          3.603997], max:[508.25233 995.      403.84507]\n",
      "Strain min:0.0, max:1.9999999\n",
      "Shape, pos: (28, 123069, 3), types: (123069,), strain: (28, 123069)\n",
      "Unique particle types: [0 1]\n",
      "Meta:  [-28.7, 24.6, -300.0, 146.2, 73.1, 4.0, 30.0]\n",
      "to train\n"
     ]
    },
    {
     "name": "stderr",
     "output_type": "stream",
     "text": [
      "23it [32:23, 85.53s/it]"
     ]
    },
    {
     "name": "stdout",
     "output_type": "stream",
     "text": [
      "23/45 Reading 60_3_0.3C50...\n",
      "/home/jovyan/work/data_temp/fragment/60/60_3_0.3C50 3069\n",
      "60_3_0.3C50 [40.7, -27.9, -300.0, 132.8, 66.4, 3.0, 50.0]\n",
      "Dim: 3\n",
      "Position min:[-499.61404   -995.           3.4341695], max:[500.88856 995.      327.5733 ]\n",
      "Strain min:0.0, max:1.9999999\n",
      "Shape, pos: (28, 123069, 3), types: (123069,), strain: (28, 123069)\n",
      "Unique particle types: [0 1]\n",
      "Meta:  [40.7, -27.9, -300.0, 132.8, 66.4, 3.0, 50.0]\n",
      "to train\n"
     ]
    },
    {
     "name": "stderr",
     "output_type": "stream",
     "text": [
      "24it [33:48, 85.53s/it]"
     ]
    },
    {
     "name": "stdout",
     "output_type": "stream",
     "text": [
      "24/45 Reading 60_6_0.3C80...\n",
      "/home/jovyan/work/data_temp/fragment/60/60_6_0.3C80 3069\n",
      "60_6_0.3C80 [-47.8, -22.3, -300.0, 167.4, 83.7, 6.0, 80.0]\n",
      "Dim: 3\n",
      "Position min:[-537.80764   -995.          -1.8479476], max:[513.45402 995.      532.3664 ]\n",
      "Strain min:0.0, max:1.9999999\n",
      "Shape, pos: (28, 123069, 3), types: (123069,), strain: (28, 123069)\n",
      "Unique particle types: [0 1]\n",
      "Meta:  [-47.8, -22.3, -300.0, 167.4, 83.7, 6.0, 80.0]\n",
      "to train\n"
     ]
    },
    {
     "name": "stderr",
     "output_type": "stream",
     "text": [
      "25it [35:14, 85.64s/it]"
     ]
    },
    {
     "name": "stdout",
     "output_type": "stream",
     "text": [
      "25/45 Reading 60_2_0.3C30...\n",
      "/home/jovyan/work/data_temp/fragment/60/60_2_0.3C30 3069\n",
      "60_2_0.3C30 [19.3, -8.3, -300.0, 116.0, 58.0, 2.0, 30.0]\n",
      "Dim: 3\n",
      "Position min:[-496.52926   -995.           4.0081936], max:[497.1608  995.      238.92065]\n",
      "Strain min:0.0, max:1.9999999\n",
      "Shape, pos: (28, 123069, 3), types: (123069,), strain: (28, 123069)\n",
      "Unique particle types: [0 1]\n",
      "Meta:  [19.3, -8.3, -300.0, 116.0, 58.0, 2.0, 30.0]\n",
      "to train\n"
     ]
    },
    {
     "name": "stderr",
     "output_type": "stream",
     "text": [
      "26it [36:40, 85.66s/it]"
     ]
    },
    {
     "name": "stdout",
     "output_type": "stream",
     "text": [
      "26/45 Reading 60_2_0.4C80...\n",
      "/home/jovyan/work/data_temp/fragment/60/60_2_0.4C80 3069\n",
      "60_2_0.4C80 [49.0, 3.5, -400.0, 116.0, 58.0, 2.0, 80.0]\n",
      "Dim: 3\n",
      "Position min:[-502.59719   -995.           1.1119388], max:[502.43363 995.      160.49684]\n",
      "Strain min:0.0, max:1.9999999\n",
      "Shape, pos: (28, 123069, 3), types: (123069,), strain: (28, 123069)\n",
      "Unique particle types: [0 1]\n",
      "Meta:  [49.0, 3.5, -400.0, 116.0, 58.0, 2.0, 80.0]\n",
      "to train\n"
     ]
    },
    {
     "name": "stderr",
     "output_type": "stream",
     "text": [
      "27it [38:06, 85.70s/it]"
     ]
    },
    {
     "name": "stdout",
     "output_type": "stream",
     "text": [
      "27/45 Reading 60_2_0.3C50...\n",
      "/home/jovyan/work/data_temp/fragment/60/60_2_0.3C50 3069\n",
      "60_2_0.3C50 [39.9, -14.4, -300.0, 116.0, 58.0, 2.0, 50.0]\n",
      "Dim: 3\n",
      "Position min:[-498.32967   -995.           3.5327472], max:[500.02515 995.      241.63088]\n",
      "Strain min:0.0, max:1.9999999\n",
      "Shape, pos: (28, 123069, 3), types: (123069,), strain: (28, 123069)\n",
      "Unique particle types: [0 1]\n",
      "Meta:  [39.9, -14.4, -300.0, 116.0, 58.0, 2.0, 50.0]\n",
      "to train\n"
     ]
    },
    {
     "name": "stderr",
     "output_type": "stream",
     "text": [
      "28it [39:32, 85.76s/it]"
     ]
    },
    {
     "name": "stdout",
     "output_type": "stream",
     "text": [
      "28/45 Reading 60_3_0.5C80...\n",
      "/home/jovyan/work/data_temp/fragment/60/60_3_0.5C80 3069\n",
      "60_3_0.5C80 [-9.5, -35.5, -500.0, 132.8, 66.4, 3.0, 80.0]\n",
      "Dim: 3\n",
      "Position min:[-504.33435   -995.           1.3678261], max:[501.90741 995.      164.37021]\n",
      "Strain min:0.0, max:1.9999999\n",
      "Shape, pos: (28, 123069, 3), types: (123069,), strain: (28, 123069)\n",
      "Unique particle types: [0 1]\n",
      "Meta:  [-9.5, -35.5, -500.0, 132.8, 66.4, 3.0, 80.0]\n",
      "to train\n"
     ]
    },
    {
     "name": "stderr",
     "output_type": "stream",
     "text": [
      "29it [40:58, 85.97s/it]"
     ]
    },
    {
     "name": "stdout",
     "output_type": "stream",
     "text": [
      "29/45 Reading 60_2_0.4C50...\n",
      "/home/jovyan/work/data_temp/fragment/60/60_2_0.4C50 3069\n",
      "60_2_0.4C50 [27.6, -29.4, -400.0, 116.0, 58.0, 2.0, 50.0]\n",
      "Dim: 3\n",
      "Position min:[-498.02782   -995.           3.6046638], max:[500.52813 995.      172.99369]\n",
      "Strain min:0.0, max:1.9999999\n",
      "Shape, pos: (28, 123069, 3), types: (123069,), strain: (28, 123069)\n",
      "Unique particle types: [0 1]\n",
      "Meta:  [27.6, -29.4, -400.0, 116.0, 58.0, 2.0, 50.0]\n",
      "to train\n"
     ]
    },
    {
     "name": "stderr",
     "output_type": "stream",
     "text": [
      "30it [42:25, 86.28s/it]"
     ]
    },
    {
     "name": "stdout",
     "output_type": "stream",
     "text": [
      "30/45 Reading 60_4_0.5C80...\n",
      "/home/jovyan/work/data_temp/fragment/60/60_4_0.5C80 3069\n",
      "60_4_0.5C80 [-2.3, 33.4, -500.0, 146.2, 73.1, 4.0, 80.0]\n",
      "Dim: 3\n",
      "Position min:[-5.1095409e+02 -9.9500000e+02 -8.4579227e-01], max:[510.12853 995.      204.11831]\n",
      "Strain min:0.0, max:1.9999999\n",
      "Shape, pos: (28, 123069, 3), types: (123069,), strain: (28, 123069)\n",
      "Unique particle types: [0 1]\n",
      "Meta:  [-2.3, 33.4, -500.0, 146.2, 73.1, 4.0, 80.0]\n",
      "to train\n"
     ]
    },
    {
     "name": "stderr",
     "output_type": "stream",
     "text": [
      "31it [43:51, 86.15s/it]"
     ]
    },
    {
     "name": "stdout",
     "output_type": "stream",
     "text": [
      "31/45 Reading 60_3_0.4C80...\n",
      "/home/jovyan/work/data_temp/fragment/60/60_3_0.4C80 3069\n",
      "60_3_0.4C80 [26.8, -45.6, -400.0, 132.8, 66.4, 3.0, 80.0]\n",
      "Dim: 3\n",
      "Position min:[-5.0196006e+02 -9.9500000e+02  4.5533392e-01], max:[506.99535 995.      231.86669]\n",
      "Strain min:0.0, max:1.9999999\n",
      "Shape, pos: (28, 123069, 3), types: (123069,), strain: (28, 123069)\n",
      "Unique particle types: [0 1]\n",
      "Meta:  [26.8, -45.6, -400.0, 132.8, 66.4, 3.0, 80.0]\n",
      "to train\n"
     ]
    },
    {
     "name": "stderr",
     "output_type": "stream",
     "text": [
      "32it [45:20, 86.95s/it]"
     ]
    },
    {
     "name": "stdout",
     "output_type": "stream",
     "text": [
      "32/45 Reading 60_4_0.3C50...\n",
      "/home/jovyan/work/data_temp/fragment/60/60_4_0.3C50 3069\n",
      "60_4_0.3C50 [19.5, -45.9, -300.0, 146.2, 73.1, 4.0, 50.0]\n",
      "Dim: 3\n",
      "Position min:[-502.04589   -995.           3.7349615], max:[502.72175 995.      397.7614 ]\n",
      "Strain min:0.0, max:1.9999999\n",
      "Shape, pos: (28, 123069, 3), types: (123069,), strain: (28, 123069)\n",
      "Unique particle types: [0 1]\n",
      "Meta:  [19.5, -45.9, -300.0, 146.2, 73.1, 4.0, 50.0]\n",
      "to train\n"
     ]
    },
    {
     "name": "stderr",
     "output_type": "stream",
     "text": [
      "33it [46:46, 86.80s/it]"
     ]
    },
    {
     "name": "stdout",
     "output_type": "stream",
     "text": [
      "33/45 Reading 60_4_0.4C30...\n"
     ]
    }
   ],
   "source": [
    "import numpy as np\n",
    "import pandas as pd\n",
    "import glob\n",
    "import json\n",
    "import random\n",
    "import math\n",
    "import pathlib\n",
    "import tqdm\n",
    "\n",
    "dataset = 'Fragment'\n",
    "in_dir = f'/home/jovyan/work/data_temp/fragment/60/'\n",
    "out_dir = f'/home/jovyan/work/data_temp/fragment/{dataset}/'\n",
    "metafile = '/home/jovyan/work/data_temp/fragment/GNN_Fragment.xlsx'\n",
    "pathlib.Path(out_dir).mkdir(parents=True, exist_ok=True)\n",
    "strain_mean, strain_std = 0.8868453123315391, 0.6590170029193022\n",
    "\n",
    "# Read metadata as dict with key as the filename, and value as list of \n",
    "# ID, X, Y, Z, L, R, Mass, Concrete Strength\n",
    "metadata = pd.DataFrame()\n",
    "for sheet in ['60mm', '90mm', '120mm']:   \n",
    "    df = pd.read_excel(metafile, sheet_name=sheet, skiprows=0, header=2)\n",
    "    df = df.iloc[:, 5:12]\n",
    "    df = df.rename(columns={'Unnamed: 5': 'ID'})\n",
    "    df = df.dropna(subset=['ID'])\n",
    "    df['ID'] = [str(x).rsplit('_', 1)[0] + str(x).rsplit('_', 1)[-1] for x in df['ID']]\n",
    "    df['ID'] = sheet.split('m')[0] + '_' + df['ID']\n",
    "    for col in ['Z (mm)','L (mm)','R (mm)','Mass (kg)']:\n",
    "        df[col] = df[col].fillna(method='ffill')\n",
    "    df['Strength (MPa)'] = [float(str(x).split('C')[-1]) for x in df['ID']]\n",
    "    metadata = pd.concat([metadata, df], ignore_index=True)\n",
    "metadata = metadata.groupby('ID').apply(lambda x: x.iloc[:, 1:].values.flatten().tolist()).to_dict()\n",
    "\n",
    "# Grab all simulation cases from corresponding data folder\n",
    "simulations = glob.glob(in_dir +'*')\n",
    "random.shuffle(simulations)\n",
    "\n",
    "## Larger step size leads to shorter trajectory and hence better rollout performance\n",
    "## But lower precision of the simulation\n",
    "## Current simulation are of absolute time 30 ms\n",
    "## Step size=1 means 53 steps, each of which 0.6 ms\n",
    "STEP_SIZE = 3\n",
    "\n",
    "## Initialisation placeholders for data\n",
    "n_trajectory = len(simulations)\n",
    "ds_train, ds_valid, ds_test = {}, {}, {}\n",
    "vels = np.array([]).reshape(0, 3)\n",
    "accs = np.array([]).reshape(0, 3)\n",
    "strain_stats = np.array([])\n",
    "file_train, file_valid, file_test = [], [], []\n",
    "\n",
    "## Main loop for data extraction\n",
    "for idx, simulation in tqdm.tqdm(enumerate(simulations)):\n",
    "    filename = simulation.split('/')[-1]\n",
    "    print(f\"{idx}/{n_trajectory} Reading {filename}...\")\n",
    "    positions, particle_types, strains = parse_fragment_simulation(simulation)\n",
    "    dim = positions.shape[-1]\n",
    "    \n",
    "    positions = positions[20::STEP_SIZE, :, :]\n",
    "    strains = strains[20::STEP_SIZE, :]\n",
    "    meta = metadata[filename]\n",
    "    #strains = (strains - strain_mean) / strain_std   ## standardize based on overall mean and std\n",
    "    print(filename, meta)\n",
    "    \n",
    "    # print for debug\n",
    "    print(f\"Dim: {dim}\")\n",
    "    print(f\"Position min:{positions.min(axis=(0,1))}, max:{positions.max(axis=(0,1))}\")\n",
    "    print(f\"Strain min:{strains.min(axis=(0,1))}, max:{strains.max(axis=(0,1))}\")\n",
    "    print(f\"Shape, pos: {positions.shape}, types: {particle_types.shape}, strain: {strains.shape}\")\n",
    "    print(f\"Unique particle types: {np.unique(particle_types)}\")\n",
    "    print('Meta: ', meta)\n",
    "    \n",
    "    # Data splits: train(80%), valid(10%), test(10%)\n",
    "    key = f'trajectory_{idx}' \n",
    "    if idx < 40:\n",
    "        print('to train')\n",
    "        ds_train[key] = [positions, particle_types, strains]\n",
    "        file_train.append(simulation)\n",
    "    if idx >= 40:\n",
    "        print('to valid')\n",
    "        ds_valid[key] = [positions, particle_types, strains]\n",
    "        file_valid.append(simulation)\n",
    "    if idx >= 40:\n",
    "        print('to test')\n",
    "        ds_test[key] = [positions, particle_types, strains]\n",
    "        file_test.append(simulation)\n",
    "        \n",
    "    # Extract Vel and Acc statistics\n",
    "    # positions of shape [timestep, particles, dimensions]\n",
    "    vel_trajectory = positions[1:,:,:] - positions[:-1,:,:]\n",
    "    acc_trajectory = vel_trajectory[1:,:,:]- vel_trajectory[:-1,:,:]\n",
    "    \n",
    "    vels = np.concatenate((vels, vel_trajectory.reshape(-1, dim)), axis=0)\n",
    "    accs = np.concatenate((accs, acc_trajectory.reshape(-1, dim)), axis=0)\n",
    "\n",
    "# Extract vel, acc statistics for normalisation\n",
    "vel_mean, vel_std = list(vels.mean(axis=0)), list(vels.std(axis=0))\n",
    "acc_mean, acc_std = list(accs.mean(axis=0)), list(accs.std(axis=0))\n",
    "\n",
    "# Save datasets in numpy format\n",
    "np.savez(out_dir + 'train.npz', **ds_train)\n",
    "np.savez(out_dir + 'valid.npz', **ds_valid)\n",
    "np.savez(out_dir + 'test.npz', **ds_test)\n",
    "\n",
    "print(f\"{len(ds_train)} trajectories saved to train.npz.\")\n",
    "print(f\"{len(ds_valid)} trajectories saved to valid.npz.\")\n",
    "print(f\"{len(ds_test)}  trajectories saved to test.npz.\")\n",
    "\n",
    "# Save meta data\n",
    "in_file = '/home/jovyan/share/gns_data/Concrete2D-C/metadata.json'\n",
    "out_file = out_dir + 'metadata.json'\n",
    "\n",
    "with open(in_file, 'r') as f:\n",
    "    meta_data = json.load(f)\n",
    "\n",
    "# In GNN, the suggested connection radius is 4.5r, or 5.625 mm (aounrd 20 neighbors)\n",
    "# If R is 5 mm before normalization, \n",
    "meta_data['dim'] = 3\n",
    "meta_data['default_connectivity_radius'] = 11 \n",
    "meta_data['sequence_length'] = positions.shape[0]\n",
    "meta_data['vel_mean'] = vel_mean\n",
    "meta_data['vel_std'] = vel_std\n",
    "meta_data['acc_mean'] = acc_mean\n",
    "meta_data['acc_std'] = acc_std\n",
    "meta_data['strain_mean'] = strain_mean\n",
    "meta_data['strain_std'] = strain_std\n",
    "\n",
    "meta_data['dt'] = 0.0006 * STEP_SIZE\n",
    "meta_data['bounds'] = [[-500, 500], [-1000, 1000], [4, 124]]\n",
    "meta_data['file_train'] = file_train\n",
    "meta_data['file_valid'] = file_valid\n",
    "meta_data['file_test'] = file_test\n",
    "print(meta_data)\n",
    "\n",
    "with open(out_file, 'w') as f:\n",
    "    json.dump(meta_data, f)"
   ]
  },
  {
   "cell_type": "markdown",
   "id": "6e0db73d-5cca-40d6-b0f7-8398f3c825bb",
   "metadata": {
    "jp-MarkdownHeadingCollapsed": true,
    "tags": []
   },
   "source": [
    "# Read MPS"
   ]
  },
  {
   "cell_type": "code",
   "execution_count": null,
   "id": "ac9a2d2f-5d1e-4102-873b-be011b497add",
   "metadata": {},
   "outputs": [],
   "source": [
    "import re\n",
    "import numpy as np\n",
    "import random\n",
    "\n",
    "re_int_sci = r'[-\\d\\.]+e?[-+\\d]*'\n",
    "re_sci = r'[+-]?\\d+\\.\\d+e[+-]?[\\d]+'\n",
    "\n",
    "def parse_fragment_mps(file):\n",
    "    '''\n",
    "    Extract info from LSDYNA txt, including particle coordinates, particle types, and effective plastic strain (eps).\"\n",
    "    Input: Txt from LYDYNA, e.g., C_80_480_Cc_20_strain.txt\n",
    "    Output: np arrays of shapes, \n",
    "            tracjectory (timesteps, num_particles, 3), particle_type (num_particles,), eps (timesteps, num_particles).\n",
    "    '''\n",
    "                   \n",
    "    with open(file, 'r') as f:\n",
    "        lines = f.readlines() \n",
    "\n",
    "    # Find all \"particle position\" lines and \"plastic strain\" lines using key words\n",
    "    strain_lines_start, strain_lines_end = [], []\n",
    "    for idx, line in enumerate(lines):\n",
    "        if line.startswith(\"$RESULT OF  Max Prin Strain\"):\n",
    "            strain_lines_start.append(idx)\n",
    "        elif line.startswith(\"*END\"):\n",
    "            strain_lines_end.append(idx)\n",
    "\n",
    "    # Extract effective plastic strain (eps)\n",
    "    strains = []\n",
    "    for line_start, line_end in zip(strain_lines_start, strain_lines_end):\n",
    "        strain_lines = lines[line_start+1:line_end]   # lines that contains positions in one time step\n",
    "        strains_one_step = []\n",
    "        for line in strain_lines:\n",
    "            num_str = re.findall(re_sci, line)  # Regular expression findign scitific numbers\n",
    "            if len(num_str) == 1:\n",
    "                num = float(num_str[0]) \n",
    "                strains_one_step.append(num)\n",
    "        strains_one_step = [0]*6248 + strains_one_step   # Add zero strain to all beam particles\n",
    "        strains.append(strains_one_step)  \n",
    "    strains = np.array(strains).astype(float)\n",
    "    \n",
    "    return strains\n",
    "\n",
    "\n",
    "if __name__ == \"__main__\":\n",
    "    pass"
   ]
  },
  {
   "cell_type": "code",
   "execution_count": null,
   "id": "4a4486fc-e595-433f-bc11-4d1b1806f416",
   "metadata": {},
   "outputs": [],
   "source": [
    "file = '/home/jovyan/work/data_temp/fragment/120_4_0.3C50'\n",
    "trajectory, particle_types, strains = parse_fragment_simulation(file)\n",
    "print(trajectory.shape, particle_types.shape, strains.shape)"
   ]
  },
  {
   "cell_type": "markdown",
   "id": "966eb557-29f5-4f3b-86f4-fd42353df575",
   "metadata": {
    "tags": []
   },
   "source": [
    "# Modify metadata"
   ]
  },
  {
   "cell_type": "code",
   "execution_count": null,
   "id": "82f182a3-c205-46ce-9c02-e13ba4635842",
   "metadata": {},
   "outputs": [],
   "source": [
    "in_file = '/home/jovyan/share/gns_data/Fragment/metadata.json'\n",
    "out_file = f'/home/jovyan/work/data_temp/fragment/Fragment/metadata.json'\n",
    "\n",
    "with open(in_file, 'r') as f:\n",
    "    meta_data = json.load(f)\n",
    "\n",
    "meta_data['dim'] = 3\n",
    "meta_data['bounds'] = [[-500, 500], [-1000, 1000], [0, 255]]\n",
    "\n",
    "print(meta_data)\n",
    "\n",
    "with open(out_file, 'w') as f:\n",
    "    json.dump(meta_data, f)"
   ]
  },
  {
   "cell_type": "markdown",
   "id": "a6030fd9-c4e2-4e22-93c7-3c3e8671a802",
   "metadata": {
    "jp-MarkdownHeadingCollapsed": true,
    "tags": []
   },
   "source": [
    "# Test regular expression for number extraction"
   ]
  },
  {
   "cell_type": "code",
   "execution_count": null,
   "id": "8d25e860-bb0a-4645-9e5a-2b2a08a8cc16",
   "metadata": {},
   "outputs": [],
   "source": [
    "import re\n",
    "\n",
    "strs = ['20742   1.4952594e+03   -1.0499660e+02   1.6313647e-02   9.9995575e+02',\n",
    "        '    32365   1.4051317e+00',\n",
    "        '   10826       1   15757   15758   15784   15783   11311   11312   11338   11337',\n",
    "        '$Total Solid element Volume =    7.5878880e+07'\n",
    "       ]\n",
    "\n",
    "pattern = r'[+-]?\\d+\\.\\d+e[+-]?[\\d]+'\n",
    "for str in strs:\n",
    "    print(re.findall(pattern, str))\n",
    "    \n",
    "pattern = r'[-\\d\\.]+e?[-+\\d]*'\n",
    "for str in strs:\n",
    "    print(re.findall(pattern, str))"
   ]
  },
  {
   "cell_type": "markdown",
   "id": "92542ac9-5dfe-4de9-87a2-4d715b9f7832",
   "metadata": {},
   "source": [
    "# Plot Fragment data"
   ]
  },
  {
   "cell_type": "code",
   "execution_count": null,
   "id": "eeeb778a-0d02-4cf8-964a-62029ead6ecc",
   "metadata": {},
   "outputs": [],
   "source": [
    "import numpy as np\n",
    "import matplotlib.pyplot as plt\n",
    "from mpl_toolkits.mplot3d import Axes3D\n",
    "from matplotlib.animation import FuncAnimation\n",
    "\n",
    "\n",
    "# Create a colormap\n",
    "cmap = plt.get_cmap(\"rainbow\")\n",
    "\n",
    "# Create a 3D scatter plot with custom figure size\n",
    "fig = plt.figure(figsize=(12, 8))\n",
    "ax = fig.add_subplot(111, projection=\"3d\")\n",
    "ax.set_box_aspect([1, 2, 0.1])\n",
    "\n",
    "# Initial scatter plot\n",
    "scatter = ax.scatter([], [], [], c=[], cmap=cmap, vmin=strains.min(), vmax=strains.max())\n",
    "\n",
    "# Add a colorbar\n",
    "cbar = fig.colorbar(scatter)\n",
    "cbar.set_label(\"Strain\")\n",
    "\n",
    "# Set axis labels\n",
    "ax.set_xlabel(\"X\")\n",
    "ax.set_ylabel(\"Y\")\n",
    "ax.set_zlabel(\"Z\")\n",
    "\n",
    "\n",
    "def update(timestep):\n",
    "    ax.clear()\n",
    "    ax.set_box_aspect([4, 8, 1])\n",
    "    ax.set_xlabel(\"X\")\n",
    "    ax.set_ylabel(\"Y\")\n",
    "    ax.set_zlabel(\"Z\")\n",
    "    \n",
    "    ax.set_title(f\"Time step: {timestep}\")\n",
    "\n",
    "    pos = position[timestep]\n",
    "    strains_t = strain[timestep]\n",
    "    scatter = ax.scatter(pos[:, 0], pos[:, 1], pos[:, 2], c=strains_t, cmap=cmap)\n",
    "\n",
    "    return scatter,\n",
    "\n",
    "\n",
    "ani = FuncAnimation(fig, update, frames=range(strains.shape[0]), interval=200, blit=False)\n",
    "\n",
    "# Uncomment the following line to save the animation as a GIF\n",
    "ani.save(\"pred.gif\", writer=\"pillow\", fps=5, dpi=50)"
   ]
  },
  {
   "cell_type": "code",
   "execution_count": null,
   "id": "4f7dd0ef-bcff-4e9f-a521-21810b57a479",
   "metadata": {
    "tags": []
   },
   "outputs": [],
   "source": [
    "import pickle\n",
    "\n",
    "path = '/home/jovyan/work/data_temp/fragment/Fragment/test.npz'\n",
    "data = [item for _, item in np.load(path, allow_pickle=True).items()]\n",
    "\n",
    "print(data[0][2].shape)"
   ]
  },
  {
   "cell_type": "code",
   "execution_count": 94,
   "id": "7c176cc0-325d-4c65-97fe-d569c36a5634",
   "metadata": {},
   "outputs": [
    {
     "name": "stdout",
     "output_type": "stream",
     "text": [
      "/home/jovyan/work/data_temp/fragment/60/60_2_0.5C30 3069\n"
     ]
    }
   ],
   "source": [
    "file = \"/home/jovyan/work/data_temp/fragment/60/60_2_0.5C30\"\n",
    "pos, type, strain = parse_fragment_simulation(file)"
   ]
  },
  {
   "cell_type": "code",
   "execution_count": 47,
   "id": "fc3d0c88-03d9-430f-97cf-7c4dee55daaa",
   "metadata": {
    "tags": []
   },
   "outputs": [
    {
     "name": "stdout",
     "output_type": "stream",
     "text": [
      "(101, 246248, 3) (246248,) (101, 246248)\n",
      "[0 1]\n"
     ]
    }
   ],
   "source": [
    "print(pos.shape, type.shape, strain.shape)\n",
    "print(np.unique(type))"
   ]
  },
  {
   "cell_type": "code",
   "execution_count": 92,
   "id": "273213e0-ff01-4ad6-bcb8-956e9dca6594",
   "metadata": {
    "tags": []
   },
   "outputs": [
    {
     "data": {
      "text/plain": [
       "Text(0.5, 0, 'Z')"
      ]
     },
     "execution_count": 92,
     "metadata": {},
     "output_type": "execute_result"
    },
    {
     "data": {
      "image/png": "[encoded data removed]",
      "text/plain": [
       "<Figure size 1200x800 with 2 Axes>"
      ]
     },
     "metadata": {},
     "output_type": "display_data"
    }
   ],
   "source": [
    "import matplotlib.pyplot as plt\n",
    "\n",
    "step = 20\n",
    "mask = type == 0\n",
    "\n",
    "xyz = pos[step, mask]\n",
    "strain_t = strain[step, mask]\n",
    "\n",
    "# Create a colormap\n",
    "cmap = plt.get_cmap(\"rainbow\")\n",
    "\n",
    "# Create a 3D scatter plot with custom figure size\n",
    "fig = plt.figure(figsize=(12, 8))\n",
    "ax = fig.add_subplot(111, projection=\"3d\")\n",
    "ax.set_box_aspect([1, 2, 0.1])\n",
    "\n",
    "# Initial scatter plot\n",
    "scatter = ax.scatter(xyz[:,0], xyz[:,1], xyz[:,2], c=strain_t, cmap=cmap, vmin=strain_t.min(), vmax=strain_t.max())\n",
    "\n",
    "# Add a colorbar\n",
    "cbar = fig.colorbar(scatter)\n",
    "cbar.set_label(\"Strain\")\n",
    "\n",
    "# Set axis labels\n",
    "ax.set_xlabel(\"X\")\n",
    "ax.set_ylabel(\"Y\")\n",
    "ax.set_zlabel(\"Z\")"
   ]
  },
  {
   "cell_type": "code",
   "execution_count": 109,
   "id": "cf3bb6bf-03c2-4425-b3ab-5fd0458f65a8",
   "metadata": {
    "tags": []
   },
   "outputs": [
    {
     "name": "stdout",
     "output_type": "stream",
     "text": [
      "[-31.0, 33.3, -300.0, 146.2, 73.1, 4.0, 50.0]\n"
     ]
    }
   ],
   "source": [
    "metafile = '/home/jovyan/work/data_temp/fragment/GNN_Fragment.xlsx'\n",
    "\n",
    "metadata = pd.DataFrame()\n",
    "for sheet in ['60mm', '90mm', '120mm']:   \n",
    "    df = pd.read_excel(metafile, sheet_name=sheet, skiprows=0, header=2)\n",
    "    df = df.iloc[:, 5:12]\n",
    "    df = df.rename(columns={'Unnamed: 5': 'ID'})\n",
    "    df = df.dropna(subset=['ID'])\n",
    "    df['ID'] = [str(x).rsplit('_', 1)[0] + str(x).rsplit('_', 1)[-1] for x in df['ID']]\n",
    "    df['ID'] = sheet.split('m')[0] + '_' + df['ID']\n",
    "    for col in ['Z (mm)','L (mm)','R (mm)','Mass (kg)']:\n",
    "        df[col] = df[col].fillna(method='ffill')\n",
    "    df['Strength (MPa)'] = [float(str(x).split('C')[-1]) for x in df['ID']]\n",
    "    metadata = pd.concat([metadata, df], ignore_index=True)\n",
    "metadata = metadata.groupby('ID').apply(lambda x: x.iloc[:, 1:].values.flatten().tolist()).to_dict()\n",
    "\n",
    "simulation = '90_4_0.3C50'\n",
    "meta = metadata[simulation]\n",
    "print(meta)"
   ]
  },
  {
   "cell_type": "code",
   "execution_count": null,
   "id": "75a4e0a4-9d05-4596-97b2-d45b5cf87c75",
   "metadata": {},
   "outputs": [],
   "source": []
  }
 ],
 "metadata": {
  "kernelspec": {
   "display_name": "mgn",
   "language": "python",
   "name": "mgn"
  },
  "language_info": {
   "codemirror_mode": {
    "name": "ipython",
    "version": 3
   },
   "file_extension": ".py",
   "mimetype": "text/x-python",
   "name": "python",
   "nbconvert_exporter": "python",
   "pygments_lexer": "ipython3",
   "version": "3.9.16"
  }
 },
 "nbformat": 4,
 "nbformat_minor": 5
}
