{
 "cells": [
  {
   "cell_type": "code",
   "execution_count": 22,
   "id": "a5f56ef1-3faa-42d2-b8d9-0f0e96d2f988",
   "metadata": {},
   "outputs": [
    {
     "name": "stdout",
     "output_type": "stream",
     "text": [
      "Elapsed time: 84.43 seconds\n"
     ]
    }
   ],
   "source": [
    "import time\n",
    "import pickle\n",
    "import numpy as np\n",
    "from sklearn.neighbors import KDTree\n",
    "import matplotlib.pyplot as plt\n",
    "\n",
    "DIST_THRES = 10.1\n",
    "MASS_PER_PARTICLE = 0.0024\n",
    "MAX_FRAGMENT_SIZE = 300\n",
    "n_steps = 100\n",
    "\n",
    "\n",
    "def update_dynamic_mask(positions, step, vel):\n",
    "    \"\"\"Updates the mask based on dynamic criteria.\"\"\"\n",
    "    z_thres = 0 + 0.1 * (vel-2) * step\n",
    "    y_min = -300 - 3 * step\n",
    "    y_max = 300 + 3 * step\n",
    "    \n",
    "    return (positions[:, 2] > z_thres) & (positions[:, 1] > y_min) & (positions[:, 1] < y_max)\n",
    "\n",
    "\n",
    "def compute_fragment_mass_kdtree(filtered_positions):\n",
    "    \"\"\"Computes the mass of fragments using KDTree.\"\"\"\n",
    "    kdt = KDTree(filtered_positions)\n",
    "    indices = kdt.query_radius(filtered_positions, r=DIST_THRES)\n",
    "    visited = set()\n",
    "    new_fragments = []\n",
    "\n",
    "    for idx, neighbors in enumerate(indices):\n",
    "        if idx not in visited:\n",
    "            new_fragment = set()\n",
    "            stack = [idx]\n",
    "            while stack:\n",
    "                current = stack.pop()\n",
    "                if current not in visited:\n",
    "                    visited.add(current)\n",
    "                    new_fragment.add(current)\n",
    "                    stack.extend([n for n in indices[current] if n not in visited])\n",
    "\n",
    "            if len(new_fragment) <= MAX_FRAGMENT_SIZE:\n",
    "                new_fragments.append(new_fragment)\n",
    "\n",
    "    return sum(len(fragment) * MASS_PER_PARTICLE for fragment in new_fragments), new_fragments\n",
    "\n",
    "all_masses = []\n",
    "cases = ['d3plot2', ]\n",
    "for case in cases:\n",
    "    path = f'/home/jovyan/work/gns-fragment/rollouts/Fragment/inference/{case}.pkl'\n",
    "    try:\n",
    "        with open(path, \"rb\") as file:\n",
    "            rollout_data = pickle.load(file)\n",
    "    except FileNotFoundError:\n",
    "        print(f\"File {path} not found.\")\n",
    "        continue\n",
    "\n",
    "    pred_pos = rollout_data['pred_trajs']\n",
    "    masses = np.zeros(n_steps)\n",
    "\n",
    "    start_time = time.time()\n",
    "    for step in range(n_steps):\n",
    "        vel = int(case[-1])\n",
    "        mask = update_dynamic_mask(pred_pos[step, :, :], step, vel)\n",
    "        filtered_positions = pred_pos[step, :, :][mask]\n",
    "\n",
    "        if filtered_positions.shape[0] > 0:\n",
    "            mass, fragments = compute_fragment_mass_kdtree(filtered_positions)\n",
    "            masses[step] = mass\n",
    "        else:\n",
    "            print(f\"No particles available for computation at step {step}.\")\n",
    "            masses[step] = 0.0\n",
    "\n",
    "    end_time = time.time()\n",
    "    elapsed_time = end_time - start_time\n",
    "    print(f\"Elapsed time: {elapsed_time:.2f} seconds\")\n",
    "    all_masses.append(masses)"
   ]
  },
  {
   "cell_type": "code",
   "execution_count": 23,
   "id": "2eef2c75-dd69-4078-9047-a7891b47ce62",
   "metadata": {},
   "outputs": [
    {
     "ename": "IndexError",
     "evalue": "list index out of range",
     "output_type": "error",
     "traceback": [
      "\u001b[0;31m---------------------------------------------------------------------------\u001b[0m",
      "\u001b[0;31mIndexError\u001b[0m                                Traceback (most recent call last)",
      "Cell \u001b[0;32mIn[23], line 13\u001b[0m\n\u001b[1;32m     11\u001b[0m ax \u001b[38;5;241m=\u001b[39m fig\u001b[38;5;241m.\u001b[39madd_subplot(\u001b[38;5;241m1\u001b[39m, \u001b[38;5;241m1\u001b[39m, \u001b[38;5;241m1\u001b[39m)\n\u001b[1;32m     12\u001b[0m ax\u001b[38;5;241m.\u001b[39mplot(all_masses[\u001b[38;5;241m0\u001b[39m], \u001b[38;5;124m'\u001b[39m\u001b[38;5;124mb\u001b[39m\u001b[38;5;124m'\u001b[39m)\n\u001b[0;32m---> 13\u001b[0m ax\u001b[38;5;241m.\u001b[39mplot(\u001b[43mall_masses\u001b[49m\u001b[43m[\u001b[49m\u001b[38;5;241;43m1\u001b[39;49m\u001b[43m]\u001b[49m, \u001b[38;5;124m'\u001b[39m\u001b[38;5;124mg\u001b[39m\u001b[38;5;124m'\u001b[39m)\n\u001b[1;32m     14\u001b[0m ax\u001b[38;5;241m.\u001b[39mplot(all_masses[\u001b[38;5;241m2\u001b[39m], \u001b[38;5;124m'\u001b[39m\u001b[38;5;124mr\u001b[39m\u001b[38;5;124m'\u001b[39m)\n\u001b[1;32m     15\u001b[0m \u001b[38;5;28mprint\u001b[39m(all_masses[\u001b[38;5;241m0\u001b[39m][\u001b[38;5;241m-\u001b[39m\u001b[38;5;241m1\u001b[39m], all_masses[\u001b[38;5;241m1\u001b[39m][\u001b[38;5;241m-\u001b[39m\u001b[38;5;241m1\u001b[39m], all_masses[\u001b[38;5;241m2\u001b[39m][\u001b[38;5;241m-\u001b[39m\u001b[38;5;241m1\u001b[39m])\n",
      "\u001b[0;31mIndexError\u001b[0m: list index out of range"
     ]
    },
    {
     "data": {
      "image/png": "[encoded data removed]",
      "text/plain": [
       "<Figure size 700x500 with 1 Axes>"
      ]
     },
     "metadata": {},
     "output_type": "display_data"
    }
   ],
   "source": [
    "import matplotlib.pyplot as plt\n",
    "\n",
    "# 2kg TNT -> 25kg fragments\n",
    "# 4kg TNT -> 23kg fragments\n",
    "# 6kg TNT -> 47kg fragments\n",
    "\n",
    "fig = plt.figure(figsize=(7, 5), constrained_layout=True)\n",
    "plt.rcParams['lines.linewidth'] = 5\n",
    "plt.rcParams['font.size'] = 20\n",
    "\n",
    "ax = fig.add_subplot(1, 1, 1)\n",
    "ax.plot(all_masses[0], 'b')\n",
    "ax.plot(all_masses[1], 'g')\n",
    "ax.plot(all_masses[2], 'r')\n",
    "print(all_masses[0][-1], all_masses[1][-1], all_masses[2][-1])"
   ]
  },
  {
   "cell_type": "code",
   "execution_count": 24,
   "id": "38c4c10b-e8e6-4155-9e18-0f0a7f84c2e1",
   "metadata": {},
   "outputs": [
    {
     "name": "stdout",
     "output_type": "stream",
     "text": [
      "(210,) (210, 3)\n"
     ]
    }
   ],
   "source": [
    "from scipy.spatial.distance import cdist\n",
    "\n",
    "def compute_fragment_property(fragments, filtered_positions, filtered_vels):\n",
    "    # Property include nparticles, diameters, velocities\n",
    "    nparticles, diameters, vels = [], [], []\n",
    "    \n",
    "    for i, fragment in enumerate(fragments):\n",
    "        fragment_positions = filtered_positions[list(fragment)]\n",
    "\n",
    "        # calculate size (number of particles in the fragment)\n",
    "        fragment_nparticle = len(fragment)\n",
    "\n",
    "        # calculate spatial size (diameter of the fragment)\n",
    "        if fragment_nparticle >= 2:  # cdist requires at least 2 points\n",
    "            distances = cdist(fragment_positions, fragment_positions)\n",
    "            fragment_diameter = distances.max()\n",
    "        else:\n",
    "            fragment_diameter = 10  # single element diameter\n",
    "\n",
    "        # calculate fragment speed\n",
    "        fragment_vels = filtered_vels[list(fragment)]\n",
    "        fragment_vel = np.mean(fragment_vels, axis=0)\n",
    "    \n",
    "        nparticles.append(fragment_nparticle)\n",
    "        diameters.append(fragment_diameter)\n",
    "        vels.append(fragment_vel)\n",
    "        \n",
    "    # Conver list to np array\n",
    "    nparticles = np.array(nparticles)\n",
    "    diameters = np.array(diameters)\n",
    "    vels = np.array(vels)\n",
    "    \n",
    "    # Sort fragments based on size\n",
    "    idx = nparticles.argsort()[::-1]  # descending\n",
    "    nparticles = nparticles[idx]\n",
    "    diameters = diameters[idx]\n",
    "    vels = vels[idx]\n",
    "        \n",
    "    return nparticles, diameters, vels\n",
    "\n",
    "step = 20\n",
    "mask = update_dynamic_mask(pred_pos[step, :, :], step, vel)\n",
    "filtered_positions = pred_pos[step, :, :][mask]\n",
    "_, fragments = compute_fragment_mass_kdtree(filtered_positions)\n",
    "vels = pred_pos[step, :, :] - pred_pos[step-1, :, :]\n",
    "filtered_vels = vels[mask]\n",
    "\n",
    "_, fragment_diameters, fragment_vels = compute_fragment_property(fragments, filtered_positions, filtered_vels)\n",
    "print(fragment_diameters.shape, fragment_vels.shape)"
   ]
  },
  {
   "cell_type": "code",
   "execution_count": 25,
   "id": "a3b6330a-6f9d-4375-84b5-435324915270",
   "metadata": {},
   "outputs": [
    {
     "data": {
      "text/plain": [
       "18.528595"
      ]
     },
     "execution_count": 25,
     "metadata": {},
     "output_type": "execute_result"
    }
   ],
   "source": [
    "VEL_SCALE_FACTOR = 100 / 6\n",
    "vv = np.linalg.norm(fragment_vels, axis=1) * VEL_SCALE_FACTOR\n",
    "np.sort(vv)[-1:].mean()"
   ]
  },
  {
   "cell_type": "code",
   "execution_count": 27,
   "id": "bf4b4a13-75b0-48b6-bd7d-c4763a797872",
   "metadata": {},
   "outputs": [
    {
     "data": {
      "text/plain": [
       "17.77494"
      ]
     },
     "execution_count": 27,
     "metadata": {},
     "output_type": "execute_result"
    }
   ],
   "source": [
    "pred_displacement = pred_pos[20, :, :] - pred_pos[19, :, :]\n",
    "# calculate speed of each particle\n",
    "pred_vel = np.linalg.norm(pred_displacement, axis=1) *VEL_SCALE_FACTOR\n",
    "\n",
    "np.sort(pred_vel)[-20:].mean()"
   ]
  },
  {
   "cell_type": "code",
   "execution_count": null,
   "id": "7674902e-cf6e-4b06-8e3f-ec679f3a2347",
   "metadata": {},
   "outputs": [],
   "source": []
  }
 ],
 "metadata": {
  "kernelspec": {
   "display_name": "gns",
   "language": "python",
   "name": "gns"
  },
  "language_info": {
   "codemirror_mode": {
    "name": "ipython",
    "version": 3
   },
   "file_extension": ".py",
   "mimetype": "text/x-python",
   "name": "python",
   "nbconvert_exporter": "python",
   "pygments_lexer": "ipython3",
   "version": "3.9.16"
  }
 },
 "nbformat": 4,
 "nbformat_minor": 5
}
