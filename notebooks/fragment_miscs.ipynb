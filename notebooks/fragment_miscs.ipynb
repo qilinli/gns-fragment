{
 "cells": [
  {
   "cell_type": "markdown",
   "id": "6a703fbb-d6f1-4f87-82d9-d1adadb73eef",
   "metadata": {
    "jp-MarkdownHeadingCollapsed": true,
    "tags": []
   },
   "source": [
    "# Random ploting beam displacement"
   ]
  },
  {
   "cell_type": "code",
   "execution_count": null,
   "id": "a3252240-625f-4604-aadd-817478aebd04",
   "metadata": {},
   "outputs": [],
   "source": [
    "fig = plt.figure(figsize=(20,10), constrained_layout=True)\n",
    "a = np.where(particle_type==1)[0]\n",
    "idx = np.random.choice(a, 48)\n",
    "\n",
    "for fig_id in range(48):\n",
    "    ax = fig.add_subplot(6, 8, fig_id+1)\n",
    "    x, y, z = gt_pos[0, idx[fig_id]]\n",
    "    x, y, z = int(x), int(y), int(z)\n",
    "    ax.set_title(f'{x}, {y}, {z}')\n",
    "    ax.plot(gt_pos[:, idx[fig_id], 2], 'b')\n",
    "    ax.plot(pred_pos[:, idx[fig_id], 2], 'r--')"
   ]
  },
  {
   "cell_type": "markdown",
   "id": "908abac0-f2e3-4ef0-a8e1-ab838ed8aa32",
   "metadata": {
    "jp-MarkdownHeadingCollapsed": true,
    "tags": []
   },
   "source": [
    "# Random ploting velocity"
   ]
  },
  {
   "cell_type": "code",
   "execution_count": null,
   "id": "025c92c1-c51d-4643-bf28-3cba8aa47278",
   "metadata": {},
   "outputs": [],
   "source": [
    "pred_vel = pred_pos[1:, :, :] - pred_pos[:-1, :, :]\n",
    "gt_vel = gt_pos[1:, :, :] - gt_pos[:-1, :, :]\n",
    "\n",
    "fig = plt.figure(figsize=(20,10), constrained_layout=True)\n",
    "idx = random.sample(range(123068), 48)\n",
    "\n",
    "for fig_id in range(48):\n",
    "    ax = fig.add_subplot(6, 8, fig_id+1)\n",
    "    ax.set_title(f'init xyz-{gt_pos[0, idx[fig_id]]}')\n",
    "    ax.plot(gt_vel[:, idx[fig_id], 2], 'b')\n",
    "    ax.plot(pred_vel[:, idx[fig_id], 2], 'r--')"
   ]
  },
  {
   "cell_type": "markdown",
   "id": "17e9b0a8-1cc5-4795-9b17-9184f2f40e38",
   "metadata": {
    "jp-MarkdownHeadingCollapsed": true,
    "tags": []
   },
   "source": [
    "# Random ploting acc"
   ]
  },
  {
   "cell_type": "code",
   "execution_count": null,
   "id": "089bd9bd-6b38-40b0-9939-b46bc4e533e5",
   "metadata": {},
   "outputs": [],
   "source": [
    "pred_acc = pred_vel[1:, :, :] - pred_vel[:-1, :, :]\n",
    "gt_acc = gt_vel[1:, :, :] - gt_vel[:-1, :, :]\n",
    "\n",
    "fig = plt.figure(figsize=(20,10), constrained_layout=True)\n",
    "idx = random.sample(range(123068), 48)\n",
    "\n",
    "for fig_id in range(48):\n",
    "    ax = fig.add_subplot(6, 8, fig_id+1)\n",
    "    ax.set_title(f'init xyz-{gt_pos[0, idx[fig_id]]}')\n",
    "    ax.plot(gt_acc[:, idx[fig_id], 2], 'b')\n",
    "    ax.plot(pred_acc[:, idx[fig_id], 2], 'r--')"
   ]
  },
  {
   "cell_type": "markdown",
   "id": "096889bc-85db-4de6-8700-524ef24e666c",
   "metadata": {
    "jp-MarkdownHeadingCollapsed": true,
    "tags": []
   },
   "source": [
    "# Random ploting strain"
   ]
  },
  {
   "cell_type": "code",
   "execution_count": null,
   "id": "949f9324-de66-48ad-8089-2b1e93f9ad4b",
   "metadata": {},
   "outputs": [],
   "source": [
    "fig = plt.figure(figsize=(20,10), constrained_layout=True)\n",
    "idx = random.sample(range(123068), 48)\n",
    "\n",
    "for fig_id in range(48):\n",
    "    ax = fig.add_subplot(6, 8, fig_id+1)\n",
    "    x, y, z = gt_pos[0, idx[fig_id]]\n",
    "    x, y, z = int(x), int(y), int(z)\n",
    "    ax.set_title(f'{x}, {y}, {z}')\n",
    "    ax.plot(gt_strain[1:, idx[fig_id]]-gt_strain[:-1, idx[fig_id]], 'b')\n",
    "    ax.plot(pred_strain[1:, idx[fig_id]]-pred_strain[:-1, idx[fig_id]], 'r--')"
   ]
  },
  {
   "cell_type": "markdown",
   "id": "014f2ae4-4495-45f3-8017-2546e17e266d",
   "metadata": {
    "jp-MarkdownHeadingCollapsed": true,
    "tags": []
   },
   "source": [
    "# Extract image from gif"
   ]
  },
  {
   "cell_type": "code",
   "execution_count": null,
   "id": "76f90205-5f66-4091-8f76-26979147cc15",
   "metadata": {},
   "outputs": [],
   "source": [
    "from PIL import Image\n",
    "\n",
    "# Open the GIF file\n",
    "idx = 1\n",
    "gif_path = f'/home/jovyan/work/gns-fragment/rollouts/Fragment/rollout_0_one_step.gif'\n",
    "gif = Image.open(gif_path)\n",
    "\n",
    "# Iterate over each frame in the GIF\n",
    "frame_images = []\n",
    "for frame_index in range(gif.n_frames):\n",
    "    # Go to the current frame\n",
    "    gif.seek(frame_index)\n",
    "\n",
    "    # Extract the current frame as an image\n",
    "    frame_image = gif.copy()\n",
    "    frame_images.append(frame_image)\n",
    "\n",
    "# Save each frame as an individual image\n",
    "output_dir = '/home/jovyan/work/gns-fragment/rollouts/Fragment/'\n",
    "for i, frame_image in enumerate(frame_images):\n",
    "    frame_image.save(f'{output_dir}rollout_{idx:02}_frame_{i:02}.png')"
   ]
  },
  {
   "cell_type": "markdown",
   "id": "dde53420-4621-4d3a-b208-9528c65f289a",
   "metadata": {
    "jp-MarkdownHeadingCollapsed": true,
    "tags": []
   },
   "source": [
    "# Create GIF from images"
   ]
  },
  {
   "cell_type": "code",
   "execution_count": 9,
   "id": "fc745411-708d-4060-bce9-049b8dbbea30",
   "metadata": {},
   "outputs": [],
   "source": [
    "from PIL import Image\n",
    "import glob\n",
    "\n",
    "case = '009_120_6_0'\n",
    "mode = 'pred'\n",
    "im_dir = f'/home/jovyan/work/gns-fragment/rollouts/Fragment/fragment_visualisation/{case}/'\n",
    "\n",
    "# List of images\n",
    "img_paths = glob.glob(im_dir + f'{mode}*.png')\n",
    "img_paths.sort()\n",
    "\n",
    "# Read in images\n",
    "imgs = [Image.open(img_path) for img_path in img_paths]\n",
    "\n",
    "# Create a new image object for the first frame, then append the remaining frames.\n",
    "imgs[0].save(im_dir + f'/{mode}.gif', format='GIF', append_images=imgs[1:], save_all=True, duration=500, loop=0)"
   ]
  },
  {
   "cell_type": "markdown",
   "id": "7b9fef48-63a0-4ec6-bf9d-d44c9a8d57c7",
   "metadata": {
    "jp-MarkdownHeadingCollapsed": true,
    "tags": []
   },
   "source": [
    "# Crop image to remove the extra white background"
   ]
  },
  {
   "cell_type": "code",
   "execution_count": null,
   "id": "2912e56f-f7e9-46a2-a9d3-3986649c09dc",
   "metadata": {},
   "outputs": [],
   "source": [
    "# Learning rate scheduimport os\n",
    "from PIL import Image\n",
    "\n",
    "# Your directory path here\n",
    "dir_path = f'../rollouts/Fragment/fragmentation/{case}/'\n",
    "\n",
    "# Get list of all file names in this directory\n",
    "file_names = os.listdir(dir_path)\n",
    "\n",
    "# Filter out any non-image files\n",
    "image_names = [fn for fn in file_names if fn.endswith(('.png', '.jpg', '.jpeg'))]\n",
    "\n",
    "for image_name in image_names:\n",
    "    # Full path of the image\n",
    "    full_path = os.path.join(dir_path, image_name)\n",
    "\n",
    "    # Open the image file\n",
    "    img = Image.open(full_path)\n",
    "    \n",
    "    # Get the width and height of the image\n",
    "    width, height = img.size\n",
    "\n",
    "    # Check if the image width is larger than your desired range\n",
    "    if width > 1250:\n",
    "        # Calculate the left and right coordinates for cropping\n",
    "        left = (width - 800) / 2\n",
    "        right = (width + 800) / 2\n",
    "\n",
    "        # Crop the image (left, upper, right, lower)\n",
    "        img_cropped = img.crop((left, 0, right, height))\n",
    "        \n",
    "        # Save the cropped image\n",
    "        img_cropped.save(os.path.join(dir_path, image_name))e"
   ]
  },
  {
   "cell_type": "markdown",
   "id": "20b06f2e-7a4f-4875-9fbd-2f9a4373ed2b",
   "metadata": {
    "jp-MarkdownHeadingCollapsed": true,
    "tags": []
   },
   "source": [
    "# learning rate schedule"
   ]
  },
  {
   "cell_type": "code",
   "execution_count": 6,
   "id": "0190ac99-4c73-432b-a6b9-30b673597b67",
   "metadata": {},
   "outputs": [
    {
     "name": "stderr",
     "output_type": "stream",
     "text": [
      "Using cache found in /home/jovyan/.cache/torch/hub/pytorch_vision_v0.10.0\n"
     ]
    },
    {
     "name": "stdout",
     "output_type": "stream",
     "text": [
      "0.0\n"
     ]
    },
    {
     "data": {
      "image/png": "[encoded data removed]",
      "text/plain": [
       "<Figure size 640x480 with 1 Axes>"
      ]
     },
     "metadata": {},
     "output_type": "display_data"
    }
   ],
   "source": [
    "from cosine_annealing_warmup import CosineAnnealingWarmupRestarts\n",
    "import matplotlib.pyplot as plt\n",
    "import torch\n",
    "\n",
    "model = torch.hub.load('pytorch/vision:v0.10.0', 'resnet18', pretrained=False)\n",
    "optimizer = torch.optim.Adam(model.parameters(), lr=0.001)\n",
    "\n",
    "max_step = 200001\n",
    "scheduler = CosineAnnealingWarmupRestarts(optimizer,\n",
    "                                          first_cycle_steps=200000,\n",
    "                                          cycle_mult=0.3,\n",
    "                                          max_lr=0.001,\n",
    "                                          min_lr=0,\n",
    "                                          warmup_steps=1000,\n",
    "                                          gamma=0.1)\n",
    "\n",
    "lrs = []\n",
    "for _ in range(max_step):\n",
    "    lrs.append(scheduler.get_lr()[0])\n",
    "    scheduler.step()\n",
    "plt.plot(lrs)\n",
    "print(lrs[-1])"
   ]
  },
  {
   "cell_type": "code",
   "execution_count": null,
   "id": "0c9012e9-fd7d-41d6-85ce-a4a67234f5a9",
   "metadata": {},
   "outputs": [],
   "source": []
  }
 ],
 "metadata": {
  "kernelspec": {
   "display_name": "gns",
   "language": "python",
   "name": "gns"
  },
  "language_info": {
   "codemirror_mode": {
    "name": "ipython",
    "version": 3
   },
   "file_extension": ".py",
   "mimetype": "text/x-python",
   "name": "python",
   "nbconvert_exporter": "python",
   "pygments_lexer": "ipython3",
   "version": "3.9.16"
  }
 },
 "nbformat": 4,
 "nbformat_minor": 5
}
